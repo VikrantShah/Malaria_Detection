{
 "cells": [
  {
   "cell_type": "markdown",
   "metadata": {},
   "source": [
    "# Importing the libraries"
   ]
  },
  {
   "cell_type": "code",
   "execution_count": 1,
   "metadata": {},
   "outputs": [],
   "source": [
    "from tensorflow import keras\n",
    "from tensorflow.keras.preprocessing.image import ImageDataGenerator\n",
    "from tensorflow.keras.models import Sequential\n",
    "from tensorflow.keras.layers import Conv2D\n",
    "from tensorflow.keras.layers import MaxPooling2D\n",
    "from tensorflow.keras.layers import Flatten\n",
    "from tensorflow.keras.layers import Dense\n",
    "from tensorflow.keras.layers import Dropout\n",
    "from tensorflow.keras.callbacks import EarlyStopping\n",
    "from tensorflow.keras.callbacks import ModelCheckpoint\n",
    "import matplotlib.pyplot as plt"
   ]
  },
  {
   "cell_type": "markdown",
   "metadata": {},
   "source": [
    "# Getting and loading the Training and Testing set"
   ]
  },
  {
   "cell_type": "code",
   "execution_count": 2,
   "metadata": {},
   "outputs": [],
   "source": [
    "path = r\"C:\\AI-DocHelper_Models_Code\\Malaria_Detection\\dataset\""
   ]
  },
  {
   "cell_type": "code",
   "execution_count": 3,
   "metadata": {},
   "outputs": [],
   "source": [
    "batch_size = 16\n",
    "img_size = (134, 134)"
   ]
  },
  {
   "cell_type": "code",
   "execution_count": 4,
   "metadata": {},
   "outputs": [],
   "source": [
    "image_datagen = ImageDataGenerator(rescale = 1./255,\n",
    "                                  rotation_range=40.,\n",
    "                                  width_shift_range=0.2,\n",
    "                                  height_shift_range=0.2,\n",
    "                                  shear_range=0.2,\n",
    "                                  zoom_range=0.2, \n",
    "                                  horizontal_flip=True,\n",
    "                                  fill_mode=\"nearest\",\n",
    "                                  validation_split=0.2)"
   ]
  },
  {
   "cell_type": "code",
   "execution_count": 5,
   "metadata": {},
   "outputs": [
    {
     "name": "stdout",
     "output_type": "stream",
     "text": [
      "Found 22048 images belonging to 2 classes.\n",
      "Found 5510 images belonging to 2 classes.\n"
     ]
    }
   ],
   "source": [
    "train_generator = image_datagen.flow_from_directory(path,\n",
    "                                                   target_size=img_size,\n",
    "                                                   batch_size=batch_size,\n",
    "                                                   class_mode=\"binary\",\n",
    "                                                   subset=\"training\",\n",
    "                                                   shuffle=True)\n",
    "\n",
    "validation_generator = image_datagen.flow_from_directory(path,\n",
    "                                                        target_size=img_size,\n",
    "                                                        batch_size=batch_size,\n",
    "                                                        class_mode=\"binary\",\n",
    "                                                        subset=\"validation\",\n",
    "                                                        shuffle=False)"
   ]
  },
  {
   "cell_type": "markdown",
   "metadata": {},
   "source": [
    "# Getting the class names"
   ]
  },
  {
   "cell_type": "code",
   "execution_count": 6,
   "metadata": {},
   "outputs": [
    {
     "name": "stdout",
     "output_type": "stream",
     "text": [
      "{0: 'Parasitized', 1: 'Uninfected'}\n"
     ]
    }
   ],
   "source": [
    "temp_classes = dict(train_generator.class_indices)\n",
    "\n",
    "classes = dict()\n",
    "for (k, v) in temp_classes.items():\n",
    "    classes[v] = k\n",
    "print(classes)"
   ]
  },
  {
   "cell_type": "markdown",
   "metadata": {},
   "source": [
    "# Building the CNN"
   ]
  },
  {
   "cell_type": "markdown",
   "metadata": {},
   "source": [
    "## Initalising the CNN"
   ]
  },
  {
   "cell_type": "code",
   "execution_count": 7,
   "metadata": {},
   "outputs": [],
   "source": [
    "model = Sequential()"
   ]
  },
  {
   "cell_type": "markdown",
   "metadata": {},
   "source": [
    "## Adding the layers"
   ]
  },
  {
   "cell_type": "markdown",
   "metadata": {},
   "source": [
    "### Adding the First Convolutional and Pooling layers"
   ]
  },
  {
   "cell_type": "markdown",
   "metadata": {},
   "source": [
    "model.add(Conv2D(32, (3, 3), input_shape = (img_size[0], img_size[1], 3), activation = \"relu\", padding=\"same\"))\n",
    "model.add(MaxPooling2D(pool_size = (2, 2)))"
   ]
  },
  {
   "cell_type": "markdown",
   "metadata": {},
   "source": [
    "### Adding the Second Convolutional and Pooling layers"
   ]
  },
  {
   "cell_type": "markdown",
   "metadata": {},
   "source": [
    "model.add(Conv2D(64, (3, 3), input_shape = (img_size[0], img_size[1], 3), activation=\"relu\", padding=\"same\"))\n",
    "model.add(MaxPooling2D(pool_size = (2, 2)))"
   ]
  },
  {
   "cell_type": "markdown",
   "metadata": {},
   "source": [
    "### Adding the Third Convolutional and Pooling layers"
   ]
  },
  {
   "cell_type": "markdown",
   "metadata": {},
   "source": [
    "model.add(Conv2D(128, (3, 3), input_shape = (img_size[0], img_size[1], 3), activation=\"relu\", padding=\"same\"))\n",
    "model.add(MaxPooling2D(pool_size = (2, 2)))"
   ]
  },
  {
   "cell_type": "markdown",
   "metadata": {},
   "source": [
    "### Adding the Forth Convolutional and Pooling layers"
   ]
  },
  {
   "cell_type": "markdown",
   "metadata": {},
   "source": [
    "model.add(Conv2D(128, (3, 3), input_shape = (img_size[0], img_size[1], 3), activation=\"relu\", padding=\"same\"))\n",
    "model.add(MaxPooling2D(pool_size = (2, 2)))"
   ]
  },
  {
   "cell_type": "markdown",
   "metadata": {},
   "source": [
    "### Adding the Fifth Convolutional and Pooling layers"
   ]
  },
  {
   "cell_type": "markdown",
   "metadata": {},
   "source": [
    "model.add(Conv2D(256, (3, 3), input_shape = (img_size[0], img_size[1], 3), activation=\"relu\", padding=\"same\"))\n",
    "model.add(MaxPooling2D(pool_size = (2, 2)))"
   ]
  },
  {
   "cell_type": "markdown",
   "metadata": {},
   "source": [
    "## Adding the Sixth Convolutional and Pooling layers"
   ]
  },
  {
   "cell_type": "markdown",
   "metadata": {},
   "source": [
    "model.add(Conv2D(256, (3, 3), input_shape = (img_size[0], img_size[1], 3), activation=\"relu\", padding=\"same\"))\n",
    "model.add(MaxPooling2D(pool_size = (2, 2)))"
   ]
  },
  {
   "cell_type": "markdown",
   "metadata": {},
   "source": [
    "## Adding the Seventh Convolutional and Pooling layers"
   ]
  },
  {
   "cell_type": "markdown",
   "metadata": {},
   "source": [
    "model.add(Conv2D(512, (3, 3), input_shape = (img_size[0], img_size[1], 3), activation=\"relu\", padding=\"same\"))\n",
    "model.add(MaxPooling2D(pool_size = (2, 2)))"
   ]
  },
  {
   "cell_type": "markdown",
   "metadata": {},
   "source": [
    "## Adding VGG16 as the model base"
   ]
  },
  {
   "cell_type": "code",
   "execution_count": 8,
   "metadata": {},
   "outputs": [],
   "source": [
    "from tensorflow.keras.applications import VGG16"
   ]
  },
  {
   "cell_type": "code",
   "execution_count": 9,
   "metadata": {},
   "outputs": [],
   "source": [
    "vgg16 = VGG16(input_shape=(img_size[0], img_size[1], 3),\n",
    "             include_top = False,\n",
    "             weights=\"imagenet\")"
   ]
  },
  {
   "cell_type": "code",
   "execution_count": 10,
   "metadata": {},
   "outputs": [],
   "source": [
    "for layer in vgg16.layers:\n",
    "    layer.trainable= False"
   ]
  },
  {
   "cell_type": "code",
   "execution_count": 11,
   "metadata": {},
   "outputs": [],
   "source": [
    "model.add(vgg16)"
   ]
  },
  {
   "cell_type": "markdown",
   "metadata": {},
   "source": [
    "## Flattening all the layers"
   ]
  },
  {
   "cell_type": "code",
   "execution_count": 12,
   "metadata": {},
   "outputs": [],
   "source": [
    "model.add(Flatten())"
   ]
  },
  {
   "cell_type": "markdown",
   "metadata": {},
   "source": [
    "## Adding the First Fully Connected Layer"
   ]
  },
  {
   "cell_type": "code",
   "execution_count": 13,
   "metadata": {},
   "outputs": [],
   "source": [
    "model.add(Dense(units=512, activation=\"relu\"))"
   ]
  },
  {
   "cell_type": "markdown",
   "metadata": {},
   "source": [
    "## Adding a Dropout layer"
   ]
  },
  {
   "cell_type": "code",
   "execution_count": 14,
   "metadata": {},
   "outputs": [],
   "source": [
    "model.add(Dropout(rate=0.5))"
   ]
  },
  {
   "cell_type": "markdown",
   "metadata": {},
   "source": [
    "## Adding the Final Fully Connected Layer"
   ]
  },
  {
   "cell_type": "code",
   "execution_count": 15,
   "metadata": {},
   "outputs": [],
   "source": [
    "model.add(Dense(units=1, activation=\"sigmoid\"))"
   ]
  },
  {
   "cell_type": "markdown",
   "metadata": {},
   "source": [
    "## Diaplaying the model summary"
   ]
  },
  {
   "cell_type": "code",
   "execution_count": 16,
   "metadata": {},
   "outputs": [
    {
     "name": "stdout",
     "output_type": "stream",
     "text": [
      "Model: \"sequential\"\n",
      "_________________________________________________________________\n",
      "Layer (type)                 Output Shape              Param #   \n",
      "=================================================================\n",
      "vgg16 (Functional)           (None, 4, 4, 512)         14714688  \n",
      "_________________________________________________________________\n",
      "flatten (Flatten)            (None, 8192)              0         \n",
      "_________________________________________________________________\n",
      "dense (Dense)                (None, 512)               4194816   \n",
      "_________________________________________________________________\n",
      "dropout (Dropout)            (None, 512)               0         \n",
      "_________________________________________________________________\n",
      "dense_1 (Dense)              (None, 1)                 513       \n",
      "=================================================================\n",
      "Total params: 18,910,017\n",
      "Trainable params: 4,195,329\n",
      "Non-trainable params: 14,714,688\n",
      "_________________________________________________________________\n"
     ]
    }
   ],
   "source": [
    "model.summary()"
   ]
  },
  {
   "cell_type": "markdown",
   "metadata": {},
   "source": [
    "# Compiling the CNN"
   ]
  },
  {
   "cell_type": "code",
   "execution_count": 17,
   "metadata": {},
   "outputs": [],
   "source": [
    "model.compile(optimizer=\"adam\",\n",
    "             loss=\"binary_crossentropy\",\n",
    "              metrics=[\"accuracy\"])"
   ]
  },
  {
   "cell_type": "markdown",
   "metadata": {},
   "source": [
    "# Training the CNN"
   ]
  },
  {
   "cell_type": "markdown",
   "metadata": {},
   "source": [
    "## Saving the best model only"
   ]
  },
  {
   "cell_type": "code",
   "execution_count": 18,
   "metadata": {},
   "outputs": [],
   "source": [
    "checkpoint = ModelCheckpoint(filepath=\"malaria.h5\",\n",
    "                            save_best_only=True)"
   ]
  },
  {
   "cell_type": "markdown",
   "metadata": {},
   "source": [
    "## Stop the training, if there is no improvement"
   ]
  },
  {
   "cell_type": "code",
   "execution_count": 19,
   "metadata": {},
   "outputs": [],
   "source": [
    "earlyStopping = EarlyStopping(monitor=\"val_loss\",\n",
    "                             patience=10,\n",
    "                             restore_best_weights=True,\n",
    "                             verbose=1)"
   ]
  },
  {
   "cell_type": "markdown",
   "metadata": {},
   "source": [
    "## Calculating the steps_per_epoch and valiadtion_steps"
   ]
  },
  {
   "cell_type": "code",
   "execution_count": 20,
   "metadata": {},
   "outputs": [
    {
     "name": "stdout",
     "output_type": "stream",
     "text": [
      "1378\n",
      "345\n"
     ]
    }
   ],
   "source": [
    "import math\n",
    "\n",
    "batch_size=batch_size\n",
    "training_size = 22048 \n",
    "validation_size = 5510\n",
    "\n",
    "compute_steps_per_epoch = lambda x : int(math.ceil(1. * x / batch_size))\n",
    "\n",
    "steps_per_epoch = compute_steps_per_epoch(training_size)\n",
    "valiadtion_steps = compute_steps_per_epoch(validation_size)\n",
    "\n",
    "print(steps_per_epoch)\n",
    "print(valiadtion_steps)"
   ]
  },
  {
   "cell_type": "code",
   "execution_count": 21,
   "metadata": {},
   "outputs": [
    {
     "name": "stdout",
     "output_type": "stream",
     "text": [
      "Epoch 1/30\n",
      "1378/1378 [==============================] - 1329s 964ms/step - loss: 0.5508 - accuracy: 0.7750 - val_loss: 0.3597 - val_accuracy: 0.8432\n",
      "Epoch 2/30\n",
      "1378/1378 [==============================] - 1303s 946ms/step - loss: 0.3504 - accuracy: 0.8557 - val_loss: 0.3419 - val_accuracy: 0.8586\n",
      "Epoch 3/30\n",
      "1378/1378 [==============================] - 1334s 968ms/step - loss: 0.3206 - accuracy: 0.8704 - val_loss: 0.2913 - val_accuracy: 0.8753\n",
      "Epoch 4/30\n",
      "1378/1378 [==============================] - 1339s 972ms/step - loss: 0.3146 - accuracy: 0.8771 - val_loss: 0.2751 - val_accuracy: 0.8833\n",
      "Epoch 5/30\n",
      "1378/1378 [==============================] - 1448s 1s/step - loss: 0.3004 - accuracy: 0.8848 - val_loss: 0.2666 - val_accuracy: 0.8918\n",
      "Epoch 6/30\n",
      "1378/1378 [==============================] - 1398s 1s/step - loss: 0.3006 - accuracy: 0.8803 - val_loss: 0.2975 - val_accuracy: 0.8920\n",
      "Epoch 7/30\n",
      "1378/1378 [==============================] - 1319s 958ms/step - loss: 0.2928 - accuracy: 0.8874 - val_loss: 0.2756 - val_accuracy: 0.8815\n",
      "Epoch 8/30\n",
      "1378/1378 [==============================] - 1374s 997ms/step - loss: 0.2975 - accuracy: 0.8831 - val_loss: 0.2945 - val_accuracy: 0.8824\n",
      "Epoch 9/30\n",
      "1378/1378 [==============================] - 1314s 953ms/step - loss: 0.2892 - accuracy: 0.8893 - val_loss: 0.2611 - val_accuracy: 0.8998\n",
      "Epoch 10/30\n",
      "1378/1378 [==============================] - 1281s 930ms/step - loss: 0.2858 - accuracy: 0.8881 - val_loss: 0.2836 - val_accuracy: 0.8887\n",
      "Epoch 11/30\n",
      "1378/1378 [==============================] - 1251s 908ms/step - loss: 0.2906 - accuracy: 0.8868 - val_loss: 0.2633 - val_accuracy: 0.8931\n",
      "Epoch 12/30\n",
      "1378/1378 [==============================] - 1244s 903ms/step - loss: 0.2781 - accuracy: 0.8946 - val_loss: 0.2561 - val_accuracy: 0.8964\n",
      "Epoch 13/30\n",
      "1378/1378 [==============================] - 1252s 909ms/step - loss: 0.2713 - accuracy: 0.8968 - val_loss: 0.2553 - val_accuracy: 0.9005\n",
      "Epoch 14/30\n",
      "1378/1378 [==============================] - 1286s 934ms/step - loss: 0.2748 - accuracy: 0.8938 - val_loss: 0.2622 - val_accuracy: 0.8889\n",
      "Epoch 15/30\n",
      "1378/1378 [==============================] - 1308s 950ms/step - loss: 0.2779 - accuracy: 0.8978 - val_loss: 0.2574 - val_accuracy: 0.8996\n",
      "Epoch 16/30\n",
      "1378/1378 [==============================] - 1276s 926ms/step - loss: 0.2836 - accuracy: 0.8885 - val_loss: 0.2774 - val_accuracy: 0.8898\n",
      "Epoch 17/30\n",
      "1378/1378 [==============================] - 1251s 908ms/step - loss: 0.2792 - accuracy: 0.8928 - val_loss: 0.2522 - val_accuracy: 0.9029\n",
      "Epoch 18/30\n",
      "1378/1378 [==============================] - 1283s 931ms/step - loss: 0.2802 - accuracy: 0.8943 - val_loss: 0.2600 - val_accuracy: 0.8998\n",
      "Epoch 19/30\n",
      "1378/1378 [==============================] - 1356s 984ms/step - loss: 0.2711 - accuracy: 0.8965 - val_loss: 0.2590 - val_accuracy: 0.8931\n",
      "Epoch 20/30\n",
      "1378/1378 [==============================] - 1276s 926ms/step - loss: 0.2781 - accuracy: 0.8951 - val_loss: 0.2569 - val_accuracy: 0.8953\n",
      "Epoch 21/30\n",
      "1378/1378 [==============================] - 1247s 905ms/step - loss: 0.2611 - accuracy: 0.9020 - val_loss: 0.2387 - val_accuracy: 0.9045\n",
      "Epoch 22/30\n",
      "1378/1378 [==============================] - 1250s 907ms/step - loss: 0.2685 - accuracy: 0.8961 - val_loss: 0.2516 - val_accuracy: 0.8991\n",
      "Epoch 23/30\n",
      "1378/1378 [==============================] - 1260s 915ms/step - loss: 0.2660 - accuracy: 0.8970 - val_loss: 0.2491 - val_accuracy: 0.8987\n",
      "Epoch 24/30\n",
      "1378/1378 [==============================] - 1249s 907ms/step - loss: 0.2556 - accuracy: 0.9060 - val_loss: 0.2467 - val_accuracy: 0.9016\n",
      "Epoch 25/30\n",
      "1378/1378 [==============================] - 1251s 908ms/step - loss: 0.2706 - accuracy: 0.8964 - val_loss: 0.2539 - val_accuracy: 0.9011\n",
      "Epoch 26/30\n",
      "1378/1378 [==============================] - 1249s 906ms/step - loss: 0.2728 - accuracy: 0.8975 - val_loss: 0.2549 - val_accuracy: 0.8902\n",
      "Epoch 27/30\n",
      "1378/1378 [==============================] - 1252s 908ms/step - loss: 0.2649 - accuracy: 0.8967 - val_loss: 0.2528 - val_accuracy: 0.8984\n",
      "Epoch 28/30\n",
      "1378/1378 [==============================] - 1256s 912ms/step - loss: 0.2698 - accuracy: 0.8970 - val_loss: 0.2450 - val_accuracy: 0.9000\n",
      "Epoch 29/30\n",
      "1378/1378 [==============================] - 1506s 1s/step - loss: 0.2557 - accuracy: 0.9015 - val_loss: 0.2540 - val_accuracy: 0.8906\n",
      "Epoch 30/30\n",
      "1378/1378 [==============================] - 1521s 1s/step - loss: 0.2680 - accuracy: 0.8969 - val_loss: 0.2455 - val_accuracy: 0.9038\n"
     ]
    }
   ],
   "source": [
    "history = model.fit(train_generator,\n",
    "                   steps_per_epoch=steps_per_epoch,\n",
    "                    epochs=30,\n",
    "                   validation_data=validation_generator,\n",
    "                   validation_steps=valiadtion_steps,\n",
    "                   callbacks=[checkpoint, earlyStopping])"
   ]
  },
  {
   "cell_type": "markdown",
   "metadata": {},
   "source": [
    "# Saving the model"
   ]
  },
  {
   "cell_type": "code",
   "execution_count": 22,
   "metadata": {},
   "outputs": [],
   "source": [
    "model_json = model.to_json()\n",
    "\n",
    "with open(\"malaria.json\", \"w\") as json_file :\n",
    "    json_file.write(model_json)"
   ]
  },
  {
   "cell_type": "markdown",
   "metadata": {},
   "source": [
    "# Visualizing the training performance"
   ]
  },
  {
   "cell_type": "code",
   "execution_count": 23,
   "metadata": {},
   "outputs": [
    {
     "data": {
      "image/png": "[encoded data removed]",
      "text/plain": [
       "<Figure size 864x864 with 2 Axes>"
      ]
     },
     "metadata": {
      "needs_background": "light"
     },
     "output_type": "display_data"
    }
   ],
   "source": [
    "plt.figure(figsize = (12, 12))\n",
    "\n",
    "plt.subplot(2, 2, 1)\n",
    "plt.plot(history.history[\"accuracy\"], label = \"accuracy\")\n",
    "plt.plot(history.history[\"val_accuracy\"], label = \"val_accuracy\")\n",
    "plt.legend()\n",
    "plt.grid()\n",
    "plt.title(\"Accuracy Evaluation\")\n",
    "\n",
    "plt.subplot(2, 2, 2)\n",
    "plt.plot(history.history[\"loss\"], label = \"loss\")\n",
    "plt.plot(history.history[\"val_loss\"], label = \"val_loss\")\n",
    "plt.grid()\n",
    "plt.legend()\n",
    "plt.title(\"Loss Evaluation\")\n",
    "\n",
    "plt.savefig(\"malaria_model_history.jpg\")"
   ]
  },
  {
   "cell_type": "markdown",
   "metadata": {},
   "source": [
    "# Getting the accuracy for test set"
   ]
  },
  {
   "cell_type": "code",
   "execution_count": 24,
   "metadata": {},
   "outputs": [
    {
     "name": "stdout",
     "output_type": "stream",
     "text": [
      "345/345 [==============================] - 300s 868ms/step - loss: 0.2420 - accuracy: 0.9049\n",
      "[0.2419581413269043, 0.9049001932144165]\n"
     ]
    }
   ],
   "source": [
    "test_accuracy = model.evaluate(validation_generator)\n",
    "print(test_accuracy)"
   ]
  },
  {
   "cell_type": "code",
   "execution_count": 25,
   "metadata": {},
   "outputs": [
    {
     "name": "stdout",
     "output_type": "stream",
     "text": [
      "345/345 [==============================] - 297s 861ms/step\n"
     ]
    },
    {
     "data": {
      "text/plain": [
       "array([[3.2767653e-04],\n",
       "       [6.1395764e-04],\n",
       "       [1.9403696e-03],\n",
       "       ...,\n",
       "       [9.4033563e-01],\n",
       "       [6.9176078e-01],\n",
       "       [9.0697932e-01]], dtype=float32)"
      ]
     },
     "execution_count": 25,
     "metadata": {},
     "output_type": "execute_result"
    }
   ],
   "source": [
    "preds = model.predict(validation_generator, verbose=1)\n",
    "preds"
   ]
  },
  {
   "cell_type": "code",
   "execution_count": 26,
   "metadata": {},
   "outputs": [],
   "source": [
    "predictions = preds.copy()\n",
    "predictions[predictions <= 0.5] = 0\n",
    "predictions[predictions > 0.5] = 1"
   ]
  },
  {
   "cell_type": "code",
   "execution_count": 27,
   "metadata": {},
   "outputs": [
    {
     "name": "stdout",
     "output_type": "stream",
     "text": [
      "[[0.]\n",
      " [0.]\n",
      " [0.]\n",
      " ...\n",
      " [1.]\n",
      " [1.]\n",
      " [1.]]\n"
     ]
    }
   ],
   "source": [
    "print(predictions)"
   ]
  },
  {
   "cell_type": "code",
   "execution_count": null,
   "metadata": {},
   "outputs": [],
   "source": []
  }
 ],
 "metadata": {
  "kernelspec": {
   "display_name": "Python 3",
   "language": "python",
   "name": "python3"
  },
  "language_info": {
   "codemirror_mode": {
    "name": "ipython",
    "version": 3
   },
   "file_extension": ".py",
   "mimetype": "text/x-python",
   "name": "python",
   "nbconvert_exporter": "python",
   "pygments_lexer": "ipython3",
   "version": "3.8.5"
  }
 },
 "nbformat": 4,
 "nbformat_minor": 4
}
